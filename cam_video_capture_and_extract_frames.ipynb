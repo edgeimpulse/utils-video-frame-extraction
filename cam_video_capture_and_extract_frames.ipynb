{
  "nbformat": 4,
  "nbformat_minor": 0,
  "metadata": {
    "colab": {
      "name": "cam-video-capture-and-extract-frames.ipynb",
      "provenance": [],
      "collapsed_sections": []
    },
    "kernelspec": {
      "name": "python3",
      "display_name": "Python 3"
    },
    "language_info": {
      "name": "python"
    }
  },
  "cells": [
    {
      "cell_type": "markdown",
      "source": [
        "# Video Capture and Frame Extraction\n",
        "\n",
        "[![Open In Colab <](https://colab.research.google.com/assets/colab-badge.svg)](https://colab.research.google.com/github/edgeimpulse/utils-video-frame-extraction/blob/main/cam_video_capture_and_extract_frames.ipynb)\n",
        "\n",
        "To use this script, run through the cells until you get to \"Settings.\" Update the following settings:\n",
        "\n",
        "* Edge Impulse API key\n",
        "* Label\n",
        "\n",
        "Run through the rest of the cells to capture a video, extract frames, and upload them to edge impulse with the label given by your \"LABEL\" setting. Repeat the whole process again for each class (change \"LABEL\")."
      ],
      "metadata": {
        "id": "cJIIBJ7-oF72"
      }
    },
    {
      "cell_type": "code",
      "source": [
        "### Update Node.js to the latest stable version\n",
        "!npm cache clean -f\n",
        "!npm install -g n\n",
        "!n stable"
      ],
      "metadata": {
        "id": "bXTlxcxJdlNX"
      },
      "execution_count": null,
      "outputs": []
    },
    {
      "cell_type": "code",
      "source": [
        "### Install required packages and tools\n",
        "!npm install -g --unsafe-perm edge-impulse-cli\n",
        "!apt install ffmpeg"
      ],
      "metadata": {
        "id": "nwbp84l7d1Oc"
      },
      "execution_count": null,
      "outputs": []
    },
    {
      "cell_type": "code",
      "source": [
        "### Use some packages\n",
        "import random, os, shutil, uuid"
      ],
      "metadata": {
        "id": "fdx0VUoed3Xm"
      },
      "execution_count": null,
      "outputs": []
    },
    {
      "cell_type": "code",
      "source": [
        "### Settings\n",
        "\n",
        "# Label\n",
        "LABEL = \"sitting\"\n",
        "\n",
        "# Copy from Edge Impulse > your_project > Dashboard > Keys\n",
        "EI_API_KEY = \"ei_46c43c7abab0df0567d35edec8347440402d95c54d5b5013eeeddd5373b80033\"\n",
        "\n",
        "# ffmpeg framerate (e.g. \"30\" for 30 fps)\n",
        "FRAME_RATE = \"30\"\n",
        "\n",
        "# Working paths\n",
        "BASE_PATH = \"/content/\"\n",
        "TEMP_PATH = os.path.join(BASE_PATH, \"temp\")\n",
        "OUTPUT_PATH = os.path.join(BASE_PATH, \"output\")\n",
        "\n",
        "# Set aside 20% for test set (Edge Impulse automatically extracts validation set during training)\n",
        "TEST_RATIO = 0.2\n",
        "\n",
        "# Make it mostly random\n",
        "random.seed()"
      ],
      "metadata": {
        "id": "oKBDC1eXeAMS"
      },
      "execution_count": null,
      "outputs": []
    },
    {
      "cell_type": "markdown",
      "source": [
        "## Video Capture Code\n",
        "\n",
        "Credit goes to: https://androidkt.com/how-to-capture-and-play-video-in-google-colab/"
      ],
      "metadata": {
        "id": "ZEQwWSQAc3ll"
      }
    },
    {
      "cell_type": "code",
      "execution_count": null,
      "metadata": {
        "id": "FRR7pUlFctbP"
      },
      "outputs": [],
      "source": [
        "from IPython.display import display, Javascript, HTML\n",
        "from google.colab.output import eval_js\n",
        "from base64 import b64encode, b64decode"
      ]
    },
    {
      "cell_type": "code",
      "source": [
        "def record_video(filename):\n",
        "  js=Javascript(\"\"\"\n",
        "    async function recordVideo() {\n",
        "      const options = { mimeType: \"video/webm; codecs=vp9\" };\n",
        "      const div = document.createElement('div');\n",
        "      const capture = document.createElement('button');\n",
        "      const stopCapture = document.createElement(\"button\");\n",
        "      \n",
        "      capture.textContent = \"Start Recording\";\n",
        "      capture.style.background = \"orange\";\n",
        "      capture.style.color = \"white\";\n",
        "\n",
        "      stopCapture.textContent = \"Stop Recording\";\n",
        "      stopCapture.style.background = \"red\";\n",
        "      stopCapture.style.color = \"white\";\n",
        "      div.appendChild(capture);\n",
        "\n",
        "      const video = document.createElement('video');\n",
        "      const recordingVid = document.createElement(\"video\");\n",
        "      video.style.display = 'block';\n",
        "\n",
        "      const stream = await navigator.mediaDevices.getUserMedia({audio:true, video: true});\n",
        "    \n",
        "      let recorder = new MediaRecorder(stream, options);\n",
        "      document.body.appendChild(div);\n",
        "      div.appendChild(video);\n",
        "\n",
        "      video.srcObject = stream;\n",
        "      video.muted = true;\n",
        "\n",
        "      await video.play();\n",
        "\n",
        "      google.colab.output.setIframeHeight(document.documentElement.scrollHeight, true);\n",
        "\n",
        "      await new Promise((resolve) => {\n",
        "        capture.onclick = resolve;\n",
        "      });\n",
        "      recorder.start();\n",
        "      capture.replaceWith(stopCapture);\n",
        "\n",
        "      await new Promise((resolve) => stopCapture.onclick = resolve);\n",
        "      recorder.stop();\n",
        "      let recData = await new Promise((resolve) => recorder.ondataavailable = resolve);\n",
        "      let arrBuff = await recData.data.arrayBuffer();\n",
        "      \n",
        "      // stop the stream and remove the video element\n",
        "      stream.getVideoTracks()[0].stop();\n",
        "      div.remove();\n",
        "\n",
        "      let binaryString = \"\";\n",
        "      let bytes = new Uint8Array(arrBuff);\n",
        "      bytes.forEach((byte) => {\n",
        "        binaryString += String.fromCharCode(byte);\n",
        "      })\n",
        "    return btoa(binaryString);\n",
        "    }\n",
        "  \"\"\")\n",
        "  try:\n",
        "    display(js)\n",
        "    data=eval_js('recordVideo({})')\n",
        "    binary=b64decode(data)\n",
        "    with open(filename,\"wb\") as video_file:\n",
        "      video_file.write(binary)\n",
        "    print(f\"Finished recording video at:{filename}\")\n",
        "  except Exception as err:\n",
        "    print(str(err))\n",
        "\n",
        "def show_video(video_path, video_width = 600):\n",
        "  \n",
        "  video_file = open(video_path, \"r+b\").read()\n",
        "\n",
        "  video_url = f\"data:video/mp4;base64,{b64encode(video_file).decode()}\"\n",
        "  return HTML(f\"\"\"<video width={video_width} controls><source src=\"{video_url}\"></video>\"\"\")"
      ],
      "metadata": {
        "id": "lsNjumDYcxew"
      },
      "execution_count": null,
      "outputs": []
    },
    {
      "cell_type": "code",
      "source": [
        "### Record video\n",
        "video_path = os.path.join(BASE_PATH, LABEL + \".mp4\")\n",
        "record_video(video_path)"
      ],
      "metadata": {
        "id": "9D_7-fakdElq"
      },
      "execution_count": null,
      "outputs": []
    },
    {
      "cell_type": "code",
      "source": [
        "### Show video\n",
        "show_video(video_path)"
      ],
      "metadata": {
        "id": "QJV3tr9CiDuo"
      },
      "execution_count": null,
      "outputs": []
    },
    {
      "cell_type": "markdown",
      "source": [
        "## Break video into frames"
      ],
      "metadata": {
        "id": "fKlOp2LvjEmK"
      }
    },
    {
      "cell_type": "code",
      "source": [
        "### Delete and re-create working directories\n",
        "if os.path.exists(TEMP_PATH):\n",
        "  shutil.rmtree(TEMP_PATH)\n",
        "os.makedirs(TEMP_PATH)\n",
        "if os.path.exists(OUTPUT_PATH):\n",
        "  shutil.rmtree(OUTPUT_PATH)\n",
        "os.makedirs(OUTPUT_PATH)"
      ],
      "metadata": {
        "id": "IuTWHsKWkRAV"
      },
      "execution_count": null,
      "outputs": []
    },
    {
      "cell_type": "code",
      "source": [
        "### Extract all frames from all videos and copy them to the appropriate directories\n",
        "    \n",
        "# Extract all frames in video into temp direcotry\n",
        "print(\"Extracting:\", LABEL + \".mp4\")\n",
        "!ffmpeg \\\n",
        "  -i {video_path} \\\n",
        "  -r {FRAME_RATE} \\\n",
        "  -hide_banner \\\n",
        "  -loglevel error \\\n",
        "  \"{TEMP_PATH}/{LABEL}.%d.jpg\"\n",
        "\n",
        "# Append filenames with UUIDs and move to output directory\n",
        "for filename in os.listdir(TEMP_PATH):\n",
        "  file_path = os.path.join(TEMP_PATH, filename)\n",
        "  id = str(uuid.uuid4().hex)[-12:]\n",
        "  base_path = os.path.basename(file_path)\n",
        "  file_stem = base_path.rsplit('.', 1)[0]\n",
        "  uuid_file = file_stem + \"_\" + id + \".jpg\"\n",
        "  shutil.move(file_path, os.path.join(OUTPUT_PATH, uuid_file))"
      ],
      "metadata": {
        "id": "U7B8TNqMjB4K"
      },
      "execution_count": null,
      "outputs": []
    },
    {
      "cell_type": "markdown",
      "source": [
        "## Upload images to Edge Impulse"
      ],
      "metadata": {
        "id": "DOafryKgoHsb"
      }
    },
    {
      "cell_type": "code",
      "source": [
        "### Send image files to Edge Impulse project\n",
        "\n",
        "# Create list of file paths\n",
        "paths = []\n",
        "for filename in os.listdir(os.path.join(OUTPUT_PATH)):\n",
        "  paths.append(os.path.join(OUTPUT_PATH, filename))\n",
        "\n",
        "# Shuffle and divide into test and training sets\n",
        "random.shuffle(paths)\n",
        "num_test_samples = int(TEST_RATIO * len(paths))\n",
        "test_paths = paths[:num_test_samples]\n",
        "train_paths = paths[num_test_samples:]\n",
        "\n",
        "# Create arugments list (as a string) for CLI call\n",
        "test_paths = ['\"' + s + '\"' for s in test_paths]\n",
        "test_paths = ' '.join(test_paths)\n",
        "train_paths = ['\"' + s + '\"' for s in train_paths]\n",
        "train_paths = ' '.join(train_paths)\n",
        "\n",
        "# Use CLI tool to send training set to Edge Impulse\n",
        "!edge-impulse-uploader \\\n",
        "--category training \\\n",
        "--label \"{LABEL}\" \\\n",
        "--api-key {EI_API_KEY} \\\n",
        "--silent \\\n",
        "--concurrency 20 \\\n",
        "{train_paths}\n",
        "\n",
        "# Use CLI tool to send test set to Edge Impulse\n",
        "!edge-impulse-uploader \\\n",
        "--category testing \\\n",
        "--label \"{LABEL}\" \\\n",
        "--api-key {EI_API_KEY} \\\n",
        "--silent \\\n",
        "--concurrency 20 \\\n",
        "{test_paths}"
      ],
      "metadata": {
        "id": "tOAods_vkx6E"
      },
      "execution_count": null,
      "outputs": []
    },
    {
      "cell_type": "code",
      "source": [
        ""
      ],
      "metadata": {
        "id": "AM2g1hmyk77W"
      },
      "execution_count": null,
      "outputs": []
    }
  ]
}
