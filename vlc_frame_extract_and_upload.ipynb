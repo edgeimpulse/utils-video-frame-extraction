{
  "nbformat": 4,
  "nbformat_minor": 0,
  "metadata": {
    "colab": {
      "name": "vlc-frame-extract-and-upload.ipynb",
      "provenance": [],
      "collapsed_sections": []
    },
    "kernelspec": {
      "name": "python3",
      "display_name": "Python 3"
    },
    "language_info": {
      "name": "python"
    }
  },
  "cells": [
    {
      "cell_type": "markdown",
      "source": [
        "# VLC Frame Extract and Upload Script\n",
        "\n",
        "[![Open In Colab <](https://colab.research.google.com/assets/colab-badge.svg)](https://colab.research.google.com/github/edgeimpulse/utils-video-frame-extraction/blob/main/vlc_frame_extract_and_upload.ipynb)\n",
        "\n",
        "To use this script, upload a video to /content (use the pane on the left side). Run through the cells until you get to \"Settings.\" Update the following settings:\n",
        "* Edge Impulse API key\n",
        "* Path to input videos\n",
        "* Labels"
      ],
      "metadata": {
        "id": "6Axk6pUn1vuM"
      }
    },
    {
      "cell_type": "code",
      "source": [
        "### Update Node.js to the latest stable version\n",
        "!npm cache clean -f\n",
        "!npm install -g n\n",
        "!n stable"
      ],
      "metadata": {
        "id": "68K1Xze7i4Cp"
      },
      "execution_count": null,
      "outputs": []
    },
    {
      "cell_type": "code",
      "source": [
        "### Install required packages and tools\n",
        "!npm install -g --unsafe-perm edge-impulse-cli"
      ],
      "metadata": {
        "id": "2XOV0XcTi5rP"
      },
      "execution_count": null,
      "outputs": []
    },
    {
      "cell_type": "code",
      "execution_count": null,
      "metadata": {
        "id": "NgD8mRw-Ps_5"
      },
      "outputs": [],
      "source": [
        "### Install ffmpeg\n",
        "!apt install ffmpeg"
      ]
    },
    {
      "cell_type": "code",
      "source": [
        "### Use some packages\n",
        "import random, os, shutil, uuid"
      ],
      "metadata": {
        "id": "ztUugHRiXsbe"
      },
      "execution_count": null,
      "outputs": []
    },
    {
      "cell_type": "code",
      "source": [
        "### Settings\n",
        "\n",
        "# Video and label (\"label\": [\"/path/to/video1\", \"/path/to/video2\", ...])\n",
        "VIDEO_PATHS = {\n",
        "  \"dance_a\": [\"/content/dance_a.mp4\"],\n",
        "  \"dance_c\": [\"/content/dance_c.mp4\"],\n",
        "  \"dance_m\": [\"/content/dance_m.mp4\"],\n",
        "  \"_unknown\": [\"/content/dance_unknown.mp4\"],\n",
        "  \"dance_y\": [\"/content/dance_y.mp4\"]\n",
        "}\n",
        "\n",
        "# Copy from Edge Impulse > your_project > Dashboard > Keys\n",
        "EI_API_KEY = \"ei_dcfefd264337a90b49447e65d1f07ad39513b36d8206d16bacdae4813369c442\"\n",
        "\n",
        "# ffmpeg framerate (e.g. \"30\" for 30 fps)\n",
        "FRAME_RATE = \"10\"\n",
        "\n",
        "# Working paths\n",
        "TEMP_PATH = \"/content/temp\"\n",
        "OUTPUT_PATH = \"/content/output\"\n",
        "\n",
        "# Set aside 20% for test set (Edge Impulse automatically extracts validation set during training)\n",
        "TEST_RATIO = 0.2\n",
        "\n",
        "# You are welcome to change the seed to try a different validation set split\n",
        "random.seed(42)"
      ],
      "metadata": {
        "id": "dPfmjDKaP-K_"
      },
      "execution_count": null,
      "outputs": []
    },
    {
      "cell_type": "code",
      "source": [
        "### Delete and re-create working directories\n",
        "if os.path.exists(TEMP_PATH):\n",
        "  shutil.rmtree(TEMP_PATH)\n",
        "os.makedirs(TEMP_PATH)\n",
        "if os.path.exists(OUTPUT_PATH):\n",
        "  shutil.rmtree(OUTPUT_PATH)\n",
        "for path in [os.path.join(OUTPUT_PATH, label) for label in VIDEO_PATHS]:\n",
        "  os.makedirs(path)"
      ],
      "metadata": {
        "id": "T2pk74yEYvZZ"
      },
      "execution_count": null,
      "outputs": []
    },
    {
      "cell_type": "code",
      "source": [
        "### Extract all frames from all videos and copy them to the appropriate directories\n",
        "for label in VIDEO_PATHS:\n",
        "  for video_path in VIDEO_PATHS[label]:\n",
        "    \n",
        "    # Extract all frames in video into temp direcotry\n",
        "    print(\"Extracting:\", label)\n",
        "    !ffmpeg \\\n",
        "      -i {video_path} \\\n",
        "      -r {FRAME_RATE} \\\n",
        "      -hide_banner \\\n",
        "      -loglevel error \\\n",
        "      \"{TEMP_PATH}/{label}.%d.jpg\"\n",
        "\n",
        "    # Append filenames with UUIDs and move to output directory\n",
        "    for filename in os.listdir(TEMP_PATH):\n",
        "      file_path = os.path.join(TEMP_PATH, filename)\n",
        "      id = str(uuid.uuid4().hex)[-12:]\n",
        "      base_path = os.path.basename(file_path)\n",
        "      file_stem = base_path.rsplit('.', 1)[0]\n",
        "      uuid_file = file_stem + \"_\" + id + \".jpg\"\n",
        "      shutil.move(file_path, os.path.join(OUTPUT_PATH, label, uuid_file))"
      ],
      "metadata": {
        "id": "NIkSJyBoUexB"
      },
      "execution_count": null,
      "outputs": []
    },
    {
      "cell_type": "code",
      "source": [
        "### Send all files to Edge Impulse project\n",
        "\n",
        "# Go through each label\n",
        "for label in VIDEO_PATHS:\n",
        "\n",
        "  # Create list of file paths\n",
        "  paths = []\n",
        "  for filename in os.listdir(os.path.join(OUTPUT_PATH, label)):\n",
        "    paths.append(os.path.join(OUTPUT_PATH, label, filename))\n",
        "\n",
        "  # Shuffle and divide into test and training sets\n",
        "  random.shuffle(paths)\n",
        "  num_test_samples = int(TEST_RATIO * len(paths))\n",
        "  test_paths = paths[:num_test_samples]\n",
        "  train_paths = paths[num_test_samples:]\n",
        "\n",
        "  # Create arugments list (as a string) for CLI call\n",
        "  test_paths = ['\"' + s + '\"' for s in test_paths]\n",
        "  test_paths = ' '.join(test_paths)\n",
        "  train_paths = ['\"' + s + '\"' for s in train_paths]\n",
        "  train_paths = ' '.join(train_paths)\n",
        "\n",
        "  # Use CLI tool to send training set to Edge Impulse\n",
        "  !edge-impulse-uploader \\\n",
        "  --category training \\\n",
        "  --label \"{label}\" \\\n",
        "  --api-key {EI_API_KEY} \\\n",
        "  --silent \\\n",
        "  --concurrency 20 \\\n",
        "  {train_paths}\n",
        "\n",
        "  # Use CLI tool to send test set to Edge Impulse\n",
        "  !edge-impulse-uploader \\\n",
        "  --category testing \\\n",
        "  --label \"{label}\" \\\n",
        "  --api-key {EI_API_KEY} \\\n",
        "  --silent \\\n",
        "  --concurrency 20 \\\n",
        "  {test_paths}"
      ],
      "metadata": {
        "id": "gkFJBHrblkb7"
      },
      "execution_count": null,
      "outputs": []
    },
    {
      "cell_type": "code",
      "source": [
        ""
      ],
      "metadata": {
        "id": "HrM9PRD6IwNk"
      },
      "execution_count": null,
      "outputs": []
    }
  ]
}
